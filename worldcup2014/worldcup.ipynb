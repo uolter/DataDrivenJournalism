{
 "metadata": {
  "name": "",
  "signature": "sha256:8e60d7df65170d5b3fb57af0020004ffdc20f8646f7b14a7b0b8900ee0c545fd"
 },
 "nbformat": 3,
 "nbformat_minor": 0,
 "worksheets": [
  {
   "cells": [
    {
     "cell_type": "code",
     "collapsed": false,
     "input": [
      "# World cup\n",
      "\n",
      "import pandas as pd\n",
      "from IPython.core.display import HTML\n",
      "\n",
      "teamA = 'Ungheria'\n",
      "teamB = 'Austria'\n",
      "medals = pd.read_csv(\"medals.csv\")\n",
      "# data.head()"
     ],
     "language": "python",
     "metadata": {},
     "outputs": [],
     "prompt_number": 1
    },
    {
     "cell_type": "code",
     "collapsed": false,
     "input": [
      "medals.columns = ['team', 'first', 'second', 'third', 'fourth', 'tot']"
     ],
     "language": "python",
     "metadata": {},
     "outputs": [],
     "prompt_number": 2
    },
    {
     "cell_type": "code",
     "collapsed": false,
     "input": [
      "def show_best_team(teamA, teamB, data):\n",
      "    \n",
      "    totA = data[data.team == teamA ]['tot']\n",
      "    totB = data[data.team == teamB]['tot']\n",
      "    \n",
      "    totA = int(totA) if len(totA)>0 else 0\n",
      "    totB = int(totB) if len(totB)>0 else 0 \n",
      "    \n",
      "    if totA > totB:\n",
      "        print '%s won %d medals while %s won %d medals' % (teamA, totA, teamB, totB)\n",
      "    else:\n",
      "        print '%s won %d medals while %s won %d medals' % (teamB, totB, teamA, totA)\n",
      "   \n",
      "\n",
      "def show_best_winner(teamA, teamB, data):\n",
      "    totA = data[data.team == teamA ]['first']\n",
      "    totB = data[data.team == teamB]['first']\n",
      "    \n",
      "    totA = int(totA) if len(totA)>0 else 0\n",
      "    totB = int(totB) if len(totB)>0 else 0 \n",
      "    \n",
      "    if totA > totB:\n",
      "        return '%s won %d championships while %s won %d championships' % (teamA, totA, teamB, totB)\n",
      "    else:\n",
      "        return '%s won %d championships while %s won %d championships' % (teamB, totB, teamA, totA)\n",
      "        \n",
      "text = show_best_team(teamA, teamB, medals) \n",
      "HTML(text)\n",
      "text = show_best_winner(teamA, teamB, medals)\n",
      "HTML(text)"
     ],
     "language": "python",
     "metadata": {},
     "outputs": [
      {
       "output_type": "stream",
       "stream": "stdout",
       "text": [
        "Austria won 2 medals while Ungheria won 2 medals\n"
       ]
      },
      {
       "html": [
        "Austria won 0 championships while Ungheria won 0 championships"
       ],
       "metadata": {},
       "output_type": "pyout",
       "prompt_number": 9,
       "text": [
        "<IPython.core.display.HTML at 0x104cba350>"
       ]
      }
     ],
     "prompt_number": 9
    },
    {
     "cell_type": "code",
     "collapsed": false,
     "input": [
      "# world cup history\n",
      "\n",
      "data = pd.read_csv(\"history.csv\")\n",
      "# data.head()"
     ],
     "language": "python",
     "metadata": {},
     "outputs": [],
     "prompt_number": 10
    },
    {
     "cell_type": "code",
     "collapsed": false,
     "input": [
      "data[data.firstp == teamA]"
     ],
     "language": "python",
     "metadata": {},
     "outputs": [
      {
       "html": [
        "<div style=\"max-height:1000px;max-width:1500px;overflow:auto;\">\n",
        "<table border=\"1\" class=\"dataframe\">\n",
        "  <tbody>\n",
        "    <tr>\n",
        "      <td>Int64Index([], dtype='int64')</td>\n",
        "      <td>Empty DataFrame</td>\n",
        "    </tr>\n",
        "  </tbody>\n",
        "</table>\n",
        "<p>0 rows \u00d7 6 columns</p>\n",
        "</div>"
       ],
       "metadata": {},
       "output_type": "pyout",
       "prompt_number": 11,
       "text": [
        "Empty DataFrame\n",
        "Columns: [Year, Country, firstp, secodp, thirdp, fourthp]\n",
        "Index: []\n",
        "\n",
        "[0 rows x 6 columns]"
       ]
      }
     ],
     "prompt_number": 11
    },
    {
     "cell_type": "code",
     "collapsed": false,
     "input": [
      "data[data.firstp == teamB]"
     ],
     "language": "python",
     "metadata": {},
     "outputs": [
      {
       "html": [
        "<div style=\"max-height:1000px;max-width:1500px;overflow:auto;\">\n",
        "<table border=\"1\" class=\"dataframe\">\n",
        "  <tbody>\n",
        "    <tr>\n",
        "      <td>Int64Index([], dtype='int64')</td>\n",
        "      <td>Empty DataFrame</td>\n",
        "    </tr>\n",
        "  </tbody>\n",
        "</table>\n",
        "<p>0 rows \u00d7 6 columns</p>\n",
        "</div>"
       ],
       "metadata": {},
       "output_type": "pyout",
       "prompt_number": 12,
       "text": [
        "Empty DataFrame\n",
        "Columns: [Year, Country, firstp, secodp, thirdp, fourthp]\n",
        "Index: []\n",
        "\n",
        "[0 rows x 6 columns]"
       ]
      }
     ],
     "prompt_number": 12
    },
    {
     "cell_type": "code",
     "collapsed": false,
     "input": [
      "cal = pd.read_csv(\"calendar.csv\")\n",
      "# cal.head()"
     ],
     "language": "python",
     "metadata": {},
     "outputs": [],
     "prompt_number": 14
    },
    {
     "cell_type": "code",
     "collapsed": false,
     "input": [
      "cal[cal.team_a == teamA][cal.team_b == teamB]"
     ],
     "language": "python",
     "metadata": {},
     "outputs": [
      {
       "output_type": "stream",
       "stream": "stderr",
       "text": [
        "/Users/uolter/src/pycode/DataDrivenJournalism/worldcup2014/venv/lib/python2.7/site-packages/pandas/core/frame.py:1686: UserWarning: Boolean Series key will be reindexed to match DataFrame index.\n",
        "  \"DataFrame index.\", UserWarning)\n"
       ]
      },
      {
       "html": [
        "<div style=\"max-height:1000px;max-width:1500px;overflow:auto;\">\n",
        "<table border=\"1\" class=\"dataframe\">\n",
        "  <tbody>\n",
        "    <tr>\n",
        "      <td>Int64Index([], dtype='int64')</td>\n",
        "      <td>Empty DataFrame</td>\n",
        "    </tr>\n",
        "  </tbody>\n",
        "</table>\n",
        "<p>0 rows \u00d7 4 columns</p>\n",
        "</div>"
       ],
       "metadata": {},
       "output_type": "pyout",
       "prompt_number": 16,
       "text": [
        "Empty DataFrame\n",
        "Columns: [date, team_a, team_b, result]\n",
        "Index: []\n",
        "\n",
        "[0 rows x 4 columns]"
       ]
      }
     ],
     "prompt_number": 16
    },
    {
     "cell_type": "code",
     "collapsed": false,
     "input": [
      "cal[cal.team_a == teamB][cal.team_b == teamA]"
     ],
     "language": "python",
     "metadata": {},
     "outputs": [
      {
       "html": [
        "<div style=\"max-height:1000px;max-width:1500px;overflow:auto;\">\n",
        "<table border=\"1\" class=\"dataframe\">\n",
        "  <thead>\n",
        "    <tr style=\"text-align: right;\">\n",
        "      <th></th>\n",
        "      <th>date</th>\n",
        "      <th>team_a</th>\n",
        "      <th>team_b</th>\n",
        "      <th>result</th>\n",
        "    </tr>\n",
        "  </thead>\n",
        "  <tbody>\n",
        "    <tr>\n",
        "      <th>26</th>\n",
        "      <td> 31/05/34</td>\n",
        "      <td> Austria</td>\n",
        "      <td> Ungheria</td>\n",
        "      <td> 2-1</td>\n",
        "    </tr>\n",
        "  </tbody>\n",
        "</table>\n",
        "<p>1 rows \u00d7 4 columns</p>\n",
        "</div>"
       ],
       "metadata": {},
       "output_type": "pyout",
       "prompt_number": 17,
       "text": [
        "        date   team_a    team_b result\n",
        "26  31/05/34  Austria  Ungheria    2-1\n",
        "\n",
        "[1 rows x 4 columns]"
       ]
      }
     ],
     "prompt_number": 17
    },
    {
     "cell_type": "code",
     "collapsed": false,
     "input": [
      "# Read the teams and for each team get the medals and the number of victories\n",
      "\n",
      "teams = pd.read_csv(\"teams.csv\")\n",
      "\n",
      "teams.head()\n",
      "\n",
      "# merging dataframe: team with medals\n",
      "team_and_medals = pd.merge(teams, medals, how='left', on='team')\n",
      "\n",
      "team_and_medals.head(10)\n",
      "#for t in teams.index:\n",
      "    # print teams.ix[t].team\n",
      "    # for each team get the num of medals\n",
      "    #    m = medals[medals.team == teams.ix[t].team]"
     ],
     "language": "python",
     "metadata": {},
     "outputs": [
      {
       "html": [
        "<div style=\"max-height:1000px;max-width:1500px;overflow:auto;\">\n",
        "<table border=\"1\" class=\"dataframe\">\n",
        "  <thead>\n",
        "    <tr style=\"text-align: right;\">\n",
        "      <th></th>\n",
        "      <th>team</th>\n",
        "      <th>first</th>\n",
        "      <th>second</th>\n",
        "      <th>third</th>\n",
        "      <th>fourth</th>\n",
        "      <th>tot</th>\n",
        "    </tr>\n",
        "  </thead>\n",
        "  <tbody>\n",
        "    <tr>\n",
        "      <th>0</th>\n",
        "      <td>           Algeria</td>\n",
        "      <td>NaN</td>\n",
        "      <td>NaN</td>\n",
        "      <td>NaN</td>\n",
        "      <td>NaN</td>\n",
        "      <td>NaN</td>\n",
        "    </tr>\n",
        "    <tr>\n",
        "      <th>1</th>\n",
        "      <td>         Argentina</td>\n",
        "      <td>  2</td>\n",
        "      <td>  2</td>\n",
        "      <td>  0</td>\n",
        "      <td>  0</td>\n",
        "      <td>  4</td>\n",
        "    </tr>\n",
        "    <tr>\n",
        "      <th>2</th>\n",
        "      <td>         Australia</td>\n",
        "      <td>NaN</td>\n",
        "      <td>NaN</td>\n",
        "      <td>NaN</td>\n",
        "      <td>NaN</td>\n",
        "      <td>NaN</td>\n",
        "    </tr>\n",
        "    <tr>\n",
        "      <th>3</th>\n",
        "      <td>            Belgio</td>\n",
        "      <td>  0</td>\n",
        "      <td>  0</td>\n",
        "      <td>  0</td>\n",
        "      <td>  1</td>\n",
        "      <td>  1</td>\n",
        "    </tr>\n",
        "    <tr>\n",
        "      <th>4</th>\n",
        "      <td> Bosnia Erzegovina</td>\n",
        "      <td>NaN</td>\n",
        "      <td>NaN</td>\n",
        "      <td>NaN</td>\n",
        "      <td>NaN</td>\n",
        "      <td>NaN</td>\n",
        "    </tr>\n",
        "    <tr>\n",
        "      <th>5</th>\n",
        "      <td>           Brasile</td>\n",
        "      <td>  5</td>\n",
        "      <td>  2</td>\n",
        "      <td>  2</td>\n",
        "      <td>  1</td>\n",
        "      <td> 10</td>\n",
        "    </tr>\n",
        "    <tr>\n",
        "      <th>6</th>\n",
        "      <td>           Camerun</td>\n",
        "      <td>NaN</td>\n",
        "      <td>NaN</td>\n",
        "      <td>NaN</td>\n",
        "      <td>NaN</td>\n",
        "      <td>NaN</td>\n",
        "    </tr>\n",
        "    <tr>\n",
        "      <th>7</th>\n",
        "      <td>              Cile</td>\n",
        "      <td>  0</td>\n",
        "      <td>  0</td>\n",
        "      <td>  1</td>\n",
        "      <td>  0</td>\n",
        "      <td>  1</td>\n",
        "    </tr>\n",
        "    <tr>\n",
        "      <th>8</th>\n",
        "      <td>          Colombia</td>\n",
        "      <td>NaN</td>\n",
        "      <td>NaN</td>\n",
        "      <td>NaN</td>\n",
        "      <td>NaN</td>\n",
        "      <td>NaN</td>\n",
        "    </tr>\n",
        "    <tr>\n",
        "      <th>9</th>\n",
        "      <td>     Corea del Sud</td>\n",
        "      <td>  0</td>\n",
        "      <td>  0</td>\n",
        "      <td>  0</td>\n",
        "      <td>  1</td>\n",
        "      <td>  1</td>\n",
        "    </tr>\n",
        "  </tbody>\n",
        "</table>\n",
        "<p>10 rows \u00d7 6 columns</p>\n",
        "</div>"
       ],
       "metadata": {},
       "output_type": "pyout",
       "prompt_number": 20,
       "text": [
        "                team  first  second  third  fourth  tot\n",
        "0            Algeria    NaN     NaN    NaN     NaN  NaN\n",
        "1          Argentina      2       2      0       0    4\n",
        "2          Australia    NaN     NaN    NaN     NaN  NaN\n",
        "3             Belgio      0       0      0       1    1\n",
        "4  Bosnia Erzegovina    NaN     NaN    NaN     NaN  NaN\n",
        "5            Brasile      5       2      2       1   10\n",
        "6            Camerun    NaN     NaN    NaN     NaN  NaN\n",
        "7               Cile      0       0      1       0    1\n",
        "8           Colombia    NaN     NaN    NaN     NaN  NaN\n",
        "9      Corea del Sud      0       0      0       1    1\n",
        "\n",
        "[10 rows x 6 columns]"
       ]
      }
     ],
     "prompt_number": 20
    },
    {
     "cell_type": "code",
     "collapsed": false,
     "input": [],
     "language": "python",
     "metadata": {},
     "outputs": [],
     "prompt_number": 47
    },
    {
     "cell_type": "code",
     "collapsed": false,
     "input": [],
     "language": "python",
     "metadata": {},
     "outputs": [],
     "prompt_number": 47
    },
    {
     "cell_type": "code",
     "collapsed": false,
     "input": [],
     "language": "python",
     "metadata": {},
     "outputs": []
    }
   ],
   "metadata": {}
  }
 ]
}