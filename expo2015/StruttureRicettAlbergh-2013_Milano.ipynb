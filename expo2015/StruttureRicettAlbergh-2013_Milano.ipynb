{
 "metadata": {
  "name": "",
  "signature": "sha256:9b46d181c253df5c2f68529ac9be46dc0eaf2f1ef4174793689f06ee547e7f3d"
 },
 "nbformat": 3,
 "nbformat_minor": 0,
 "worksheets": [
  {
   "cells": [
    {
     "cell_type": "heading",
     "level": 1,
     "metadata": {},
     "source": [
      "Milano Strutture Ricettive Alberghi 2013"
     ]
    },
    {
     "cell_type": "markdown",
     "metadata": {},
     "source": [
      "I dati utilizzati sono quelli del comune di Milano, disponibili sul sito:\n",
      "http://dati.comune.milano.it/"
     ]
    },
    {
     "cell_type": "markdown",
     "metadata": {},
     "source": [
      "<div style=\"float:left\">\n",
      "![CC](http://dati.comune.milano.it/templates/tableless/images/rd/lic_cc-by.gif)\n",
      "</div>"
     ]
    },
    {
     "cell_type": "code",
     "collapsed": false,
     "input": [
      "import pandas as pd\n",
      "\n",
      "CSV_FILE = 'StruttureRicettAlbergh-2013.csv'"
     ],
     "language": "python",
     "metadata": {},
     "outputs": [],
     "prompt_number": 1
    },
    {
     "cell_type": "code",
     "collapsed": false,
     "input": [
      "df = pd.read_csv(CSV_FILE, sep=';')\n",
      "df.head()"
     ],
     "language": "python",
     "metadata": {},
     "outputs": [
      {
       "html": [
        "<div style=\"max-height:1000px;max-width:1500px;overflow:auto;\">\n",
        "<table border=\"1\" class=\"dataframe\">\n",
        "  <thead>\n",
        "    <tr style=\"text-align: right;\">\n",
        "      <th></th>\n",
        "      <th>Zona</th>\n",
        "      <th>Nil</th>\n",
        "      <th>Tipologia esercizio</th>\n",
        "      <th>Insegna</th>\n",
        "      <th>Indirizzo</th>\n",
        "      <th>Categoria (stelle)</th>\n",
        "      <th>Numero camere</th>\n",
        "      <th>Numero posti letto</th>\n",
        "    </tr>\n",
        "  </thead>\n",
        "  <tbody>\n",
        "    <tr>\n",
        "      <th>0</th>\n",
        "      <td> 1</td>\n",
        "      <td> 1</td>\n",
        "      <td> Albergo</td>\n",
        "      <td>    Boscolo Hotel Exedra</td>\n",
        "      <td> Cso Matteotti Giacomo, 4/6</td>\n",
        "      <td> 5</td>\n",
        "      <td> 154</td>\n",
        "      <td> 308</td>\n",
        "    </tr>\n",
        "    <tr>\n",
        "      <th>1</th>\n",
        "      <td> 1</td>\n",
        "      <td> 1</td>\n",
        "      <td> Albergo</td>\n",
        "      <td>  Carlton Hotel Baglioni</td>\n",
        "      <td>              Via Senato, 5</td>\n",
        "      <td> 5</td>\n",
        "      <td>  93</td>\n",
        "      <td> 186</td>\n",
        "    </tr>\n",
        "    <tr>\n",
        "      <th>2</th>\n",
        "      <td> 1</td>\n",
        "      <td> 1</td>\n",
        "      <td> Albergo</td>\n",
        "      <td> Four Season Hotel Milan</td>\n",
        "      <td>              Via Gesu', 10</td>\n",
        "      <td> 5</td>\n",
        "      <td> 118</td>\n",
        "      <td> 240</td>\n",
        "    </tr>\n",
        "    <tr>\n",
        "      <th>3</th>\n",
        "      <td> 1</td>\n",
        "      <td> 1</td>\n",
        "      <td> Albergo</td>\n",
        "      <td>     Hotel Pierre Milano</td>\n",
        "      <td>  Via De Amicis Edmondo, 32</td>\n",
        "      <td> 5</td>\n",
        "      <td>  47</td>\n",
        "      <td>  92</td>\n",
        "    </tr>\n",
        "    <tr>\n",
        "      <th>4</th>\n",
        "      <td> 1</td>\n",
        "      <td> 1</td>\n",
        "      <td> Albergo</td>\n",
        "      <td>       Park Hyatt Milano</td>\n",
        "      <td>      Via Grossi Tommaso, 1</td>\n",
        "      <td> 5</td>\n",
        "      <td> 106</td>\n",
        "      <td> 212</td>\n",
        "    </tr>\n",
        "  </tbody>\n",
        "</table>\n",
        "</div>"
       ],
       "metadata": {},
       "output_type": "pyout",
       "prompt_number": 2,
       "text": [
        "   Zona  Nil Tipologia esercizio                  Insegna  \\\n",
        "0     1    1             Albergo     Boscolo Hotel Exedra   \n",
        "1     1    1             Albergo   Carlton Hotel Baglioni   \n",
        "2     1    1             Albergo  Four Season Hotel Milan   \n",
        "3     1    1             Albergo      Hotel Pierre Milano   \n",
        "4     1    1             Albergo        Park Hyatt Milano   \n",
        "\n",
        "                    Indirizzo  Categoria (stelle)  Numero camere  \\\n",
        "0  Cso Matteotti Giacomo, 4/6                   5            154   \n",
        "1               Via Senato, 5                   5             93   \n",
        "2               Via Gesu', 10                   5            118   \n",
        "3   Via De Amicis Edmondo, 32                   5             47   \n",
        "4       Via Grossi Tommaso, 1                   5            106   \n",
        "\n",
        "   Numero posti letto  \n",
        "0                 308  \n",
        "1                 186  \n",
        "2                 240  \n",
        "3                  92  \n",
        "4                 212  "
       ]
      }
     ],
     "prompt_number": 2
    },
    {
     "cell_type": "code",
     "collapsed": false,
     "input": [
      "df.describe()"
     ],
     "language": "python",
     "metadata": {},
     "outputs": [
      {
       "html": [
        "<div style=\"max-height:1000px;max-width:1500px;overflow:auto;\">\n",
        "<table border=\"1\" class=\"dataframe\">\n",
        "  <thead>\n",
        "    <tr style=\"text-align: right;\">\n",
        "      <th></th>\n",
        "      <th>Zona</th>\n",
        "      <th>Nil</th>\n",
        "      <th>Categoria (stelle)</th>\n",
        "      <th>Numero camere</th>\n",
        "      <th>Numero posti letto</th>\n",
        "    </tr>\n",
        "  </thead>\n",
        "  <tbody>\n",
        "    <tr>\n",
        "      <th>count</th>\n",
        "      <td> 451.000000</td>\n",
        "      <td> 451.000000</td>\n",
        "      <td> 451.000000</td>\n",
        "      <td> 451.000000</td>\n",
        "      <td> 451.000000</td>\n",
        "    </tr>\n",
        "    <tr>\n",
        "      <th>mean</th>\n",
        "      <td>   4.113082</td>\n",
        "      <td>  27.299335</td>\n",
        "      <td>   2.949002</td>\n",
        "      <td>  60.447894</td>\n",
        "      <td> 114.660754</td>\n",
        "    </tr>\n",
        "    <tr>\n",
        "      <th>std</th>\n",
        "      <td>   2.675499</td>\n",
        "      <td>  23.046937</td>\n",
        "      <td>   1.127265</td>\n",
        "      <td>  69.140011</td>\n",
        "      <td> 137.748169</td>\n",
        "    </tr>\n",
        "    <tr>\n",
        "      <th>min</th>\n",
        "      <td>   1.000000</td>\n",
        "      <td>   1.000000</td>\n",
        "      <td>   1.000000</td>\n",
        "      <td>   7.000000</td>\n",
        "      <td>   7.000000</td>\n",
        "    </tr>\n",
        "    <tr>\n",
        "      <th>25%</th>\n",
        "      <td>   2.000000</td>\n",
        "      <td>  10.000000</td>\n",
        "      <td>   2.000000</td>\n",
        "      <td>  16.000000</td>\n",
        "      <td>  25.000000</td>\n",
        "    </tr>\n",
        "    <tr>\n",
        "      <th>50%</th>\n",
        "      <td>   3.000000</td>\n",
        "      <td>  21.000000</td>\n",
        "      <td>   3.000000</td>\n",
        "      <td>  35.000000</td>\n",
        "      <td>  67.000000</td>\n",
        "    </tr>\n",
        "    <tr>\n",
        "      <th>75%</th>\n",
        "      <td>   7.000000</td>\n",
        "      <td>  43.500000</td>\n",
        "      <td>   4.000000</td>\n",
        "      <td>  75.000000</td>\n",
        "      <td> 146.000000</td>\n",
        "    </tr>\n",
        "    <tr>\n",
        "      <th>max</th>\n",
        "      <td>   9.000000</td>\n",
        "      <td>  88.000000</td>\n",
        "      <td>   5.000000</td>\n",
        "      <td> 439.000000</td>\n",
        "      <td> 922.000000</td>\n",
        "    </tr>\n",
        "  </tbody>\n",
        "</table>\n",
        "</div>"
       ],
       "metadata": {},
       "output_type": "pyout",
       "prompt_number": 3,
       "text": [
        "             Zona         Nil  Categoria (stelle)  Numero camere  \\\n",
        "count  451.000000  451.000000          451.000000     451.000000   \n",
        "mean     4.113082   27.299335            2.949002      60.447894   \n",
        "std      2.675499   23.046937            1.127265      69.140011   \n",
        "min      1.000000    1.000000            1.000000       7.000000   \n",
        "25%      2.000000   10.000000            2.000000      16.000000   \n",
        "50%      3.000000   21.000000            3.000000      35.000000   \n",
        "75%      7.000000   43.500000            4.000000      75.000000   \n",
        "max      9.000000   88.000000            5.000000     439.000000   \n",
        "\n",
        "       Numero posti letto  \n",
        "count          451.000000  \n",
        "mean           114.660754  \n",
        "std            137.748169  \n",
        "min              7.000000  \n",
        "25%             25.000000  \n",
        "50%             67.000000  \n",
        "75%            146.000000  \n",
        "max            922.000000  "
       ]
      }
     ],
     "prompt_number": 3
    },
    {
     "cell_type": "code",
     "collapsed": false,
     "input": [
      "import thinkstats2\n",
      "import thinkplot"
     ],
     "language": "python",
     "metadata": {},
     "outputs": [],
     "prompt_number": 8
    },
    {
     "cell_type": "heading",
     "level": 2,
     "metadata": {},
     "source": [
      "Distribuzione Categoria (stelle)"
     ]
    },
    {
     "cell_type": "code",
     "collapsed": false,
     "input": [
      "df = df.rename(columns={'Categoria (stelle)': 'stelle'})\n",
      "stars = df['stelle']\n",
      "\n",
      "hist_stars = thinkstats2.Hist(stars, label='Stelle')"
     ],
     "language": "python",
     "metadata": {},
     "outputs": [],
     "prompt_number": 40
    },
    {
     "cell_type": "code",
     "collapsed": false,
     "input": [
      "thinkplot.Hist(hist_stars)"
     ],
     "language": "python",
     "metadata": {},
     "outputs": [
      {
       "metadata": {},
       "output_type": "display_data",
       "png": "[encoded data removed]",
       "text": [
        "<matplotlib.figure.Figure at 0x1106ce250>"
       ]
      }
     ],
     "prompt_number": 41
    },
    {
     "cell_type": "code",
     "collapsed": false,
     "input": [
      "stars.describe()"
     ],
     "language": "python",
     "metadata": {},
     "outputs": [
      {
       "metadata": {},
       "output_type": "pyout",
       "prompt_number": 42,
       "text": [
        "count    451.000000\n",
        "mean       2.949002\n",
        "std        1.127265\n",
        "min        1.000000\n",
        "25%        2.000000\n",
        "50%        3.000000\n",
        "75%        4.000000\n",
        "max        5.000000\n",
        "Name: stelle, dtype: float64"
       ]
      }
     ],
     "prompt_number": 42
    },
    {
     "cell_type": "heading",
     "level": 2,
     "metadata": {},
     "source": [
      "Posti letto"
     ]
    },
    {
     "cell_type": "code",
     "collapsed": false,
     "input": [
      "df = df.rename(columns={'Numero posti letto': 'posti'})\n",
      "\n",
      "posti = df['posti']\n",
      "\n",
      "posti.describe()"
     ],
     "language": "python",
     "metadata": {},
     "outputs": [
      {
       "metadata": {},
       "output_type": "pyout",
       "prompt_number": 46,
       "text": [
        "count    451.000000\n",
        "mean     114.660754\n",
        "std      137.748169\n",
        "min        7.000000\n",
        "25%       25.000000\n",
        "50%       67.000000\n",
        "75%      146.000000\n",
        "max      922.000000\n",
        "Name: posti, dtype: float64"
       ]
      }
     ],
     "prompt_number": 46
    },
    {
     "cell_type": "heading",
     "level": 2,
     "metadata": {},
     "source": [
      "Tipologia Struttura"
     ]
    },
    {
     "cell_type": "code",
     "collapsed": false,
     "input": [
      "df = df.rename(columns={'Tipologia esercizio': 'tipo'})\n",
      "\n",
      "df['tipo'] = df['tipo'].apply(lambda x: x[0].upper() + x[1:], 1)\n",
      "\n",
      "types = df.groupby(['tipo'])\n",
      "\n",
      "from IPython.display import HTML\n",
      "\n",
      "for i, type in types:\n",
      "    display(HTML(\"<li>%s - <b>%d</b></li>\" %(i, len(type))))"
     ],
     "language": "python",
     "metadata": {},
     "outputs": [
      {
       "html": [
        "<li>Albergo - <b>397</b></li>"
       ],
       "metadata": {},
       "output_type": "display_data",
       "text": [
        "<IPython.core.display.HTML at 0x110beae90>"
       ]
      },
      {
       "html": [
        "<li>Residence - <b>54</b></li>"
       ],
       "metadata": {},
       "output_type": "display_data",
       "text": [
        "<IPython.core.display.HTML at 0x110beaf10>"
       ]
      }
     ],
     "prompt_number": 58
    },
    {
     "cell_type": "code",
     "collapsed": false,
     "input": [],
     "language": "python",
     "metadata": {},
     "outputs": []
    }
   ],
   "metadata": {}
  }
 ]
}