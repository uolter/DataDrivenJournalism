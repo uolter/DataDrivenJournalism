{
 "metadata": {
  "name": ""
 },
 "nbformat": 3,
 "nbformat_minor": 0,
 "worksheets": [
  {
   "cells": [
    {
     "cell_type": "code",
     "collapsed": false,
     "input": [
      "import pandas as pd\n",
      "from pandas.tseries.resample import TimeGrouper\n",
      "from pandas.tseries.offsets import DateOffset\n",
      "\n",
      "\n",
      "dataset = pd.read_csv('2pope.csv')\n",
      "dataset['created_at'] = pd.to_datetime(pd.Series(dataset['created_at']))\n",
      "dataset.set_index('created_at', drop=False, inplace=True)\n",
      "dataset.index = dataset.index.tz_localize('GMT').tz_convert('CET')\n",
      "dataset.index = dataset.index - DateOffset(hours = 12)\n",
      "dataset.head()"
     ],
     "language": "python",
     "metadata": {},
     "outputs": [
      {
       "html": [
        "<div style=\"max-height:1000px;max-width:1500px;overflow:auto;\">\n",
        "<table border=\"1\" class=\"dataframe\">\n",
        "  <thead>\n",
        "    <tr style=\"text-align: right;\">\n",
        "      <th></th>\n",
        "      <th>text</th>\n",
        "      <th>created_at</th>\n",
        "      <th>geo</th>\n",
        "      <th>source</th>\n",
        "    </tr>\n",
        "  </thead>\n",
        "  <tbody>\n",
        "    <tr>\n",
        "      <th>2014-04-26 20:30:05+02:00</th>\n",
        "      <td> Et autour du Vatican, des foules cherchent \u00e0 a...</td>\n",
        "      <td>2014-04-27 06:30:05</td>\n",
        "      <td> NaN</td>\n",
        "      <td>                 iOS</td>\n",
        "    </tr>\n",
        "    <tr>\n",
        "      <th>2014-04-26 20:30:05+02:00</th>\n",
        "      <td> RT @romereportsesp: \u00a1HOY es la Canonizaci\u00f3n de...</td>\n",
        "      <td>2014-04-27 06:30:05</td>\n",
        "      <td> NaN</td>\n",
        "      <td> Twitter for Android</td>\n",
        "    </tr>\n",
        "    <tr>\n",
        "      <th>2014-04-26 20:30:06+02:00</th>\n",
        "      <td> RT @AchinchillaA: \u00daltimas im\u00e1genes desde Plaza...</td>\n",
        "      <td>2014-04-27 06:30:06</td>\n",
        "      <td> NaN</td>\n",
        "      <td>                 web</td>\n",
        "    </tr>\n",
        "    <tr>\n",
        "      <th>2014-04-26 20:30:06+02:00</th>\n",
        "      <td> RT @jackvalero: You get a great view of St Pet...</td>\n",
        "      <td>2014-04-27 06:30:06</td>\n",
        "      <td> NaN</td>\n",
        "      <td>    Twitter for iPad</td>\n",
        "    </tr>\n",
        "    <tr>\n",
        "      <th>2014-04-26 20:30:07+02:00</th>\n",
        "      <td> RT @fam_cristiana: #2popesaints, la lunga nott...</td>\n",
        "      <td>2014-04-27 06:30:07</td>\n",
        "      <td> NaN</td>\n",
        "      <td>  Twitter for iPhone</td>\n",
        "    </tr>\n",
        "  </tbody>\n",
        "</table>\n",
        "</div>"
       ],
       "metadata": {},
       "output_type": "pyout",
       "prompt_number": 20,
       "text": [
        "                                                                        text  \\\n",
        "2014-04-26 20:30:05+02:00  Et autour du Vatican, des foules cherchent \u00e0 a...   \n",
        "2014-04-26 20:30:05+02:00  RT @romereportsesp: \u00a1HOY es la Canonizaci\u00f3n de...   \n",
        "2014-04-26 20:30:06+02:00  RT @AchinchillaA: \u00daltimas im\u00e1genes desde Plaza...   \n",
        "2014-04-26 20:30:06+02:00  RT @jackvalero: You get a great view of St Pet...   \n",
        "2014-04-26 20:30:07+02:00  RT @fam_cristiana: #2popesaints, la lunga nott...   \n",
        "\n",
        "                                   created_at  geo               source  \n",
        "2014-04-26 20:30:05+02:00 2014-04-27 06:30:05  NaN                  iOS  \n",
        "2014-04-26 20:30:05+02:00 2014-04-27 06:30:05  NaN  Twitter for Android  \n",
        "2014-04-26 20:30:06+02:00 2014-04-27 06:30:06  NaN                  web  \n",
        "2014-04-26 20:30:06+02:00 2014-04-27 06:30:06  NaN     Twitter for iPad  \n",
        "2014-04-26 20:30:07+02:00 2014-04-27 06:30:07  NaN   Twitter for iPhone  "
       ]
      }
     ],
     "prompt_number": 20
    },
    {
     "cell_type": "code",
     "collapsed": false,
     "input": [
      "dataset.describe()"
     ],
     "language": "python",
     "metadata": {},
     "outputs": [
      {
       "html": [
        "<div style=\"max-height:1000px;max-width:1500px;overflow:auto;\">\n",
        "<table border=\"1\" class=\"dataframe\">\n",
        "  <thead>\n",
        "    <tr style=\"text-align: right;\">\n",
        "      <th></th>\n",
        "      <th>text</th>\n",
        "      <th>created_at</th>\n",
        "      <th>geo</th>\n",
        "      <th>source</th>\n",
        "    </tr>\n",
        "  </thead>\n",
        "  <tbody>\n",
        "    <tr>\n",
        "      <th>count</th>\n",
        "      <td>                                             44854</td>\n",
        "      <td>               44854</td>\n",
        "      <td>                                               726</td>\n",
        "      <td>              44854</td>\n",
        "    </tr>\n",
        "    <tr>\n",
        "      <th>first</th>\n",
        "      <td>                                               NaN</td>\n",
        "      <td> 2014-04-27 06:30:05</td>\n",
        "      <td>                                               NaN</td>\n",
        "      <td>                NaN</td>\n",
        "    </tr>\n",
        "    <tr>\n",
        "      <th>freq</th>\n",
        "      <td>                                               359</td>\n",
        "      <td>                  16</td>\n",
        "      <td>                                                15</td>\n",
        "      <td>              10920</td>\n",
        "    </tr>\n",
        "    <tr>\n",
        "      <th>last</th>\n",
        "      <td>                                               NaN</td>\n",
        "      <td> 2014-04-27 14:30:04</td>\n",
        "      <td>                                               NaN</td>\n",
        "      <td>                NaN</td>\n",
        "    </tr>\n",
        "    <tr>\n",
        "      <th>top</th>\n",
        "      <td> RT @catolicos_es: \u00a1San Juan XXIII y San Juan P...</td>\n",
        "      <td> 2014-04-27 10:00:06</td>\n",
        "      <td> { \"type\" : \"Point\", \"coordinates\" : [ 6.864163...</td>\n",
        "      <td> Twitter for iPhone</td>\n",
        "    </tr>\n",
        "    <tr>\n",
        "      <th>unique</th>\n",
        "      <td>                                             19106</td>\n",
        "      <td>               19056</td>\n",
        "      <td>                                               642</td>\n",
        "      <td>                210</td>\n",
        "    </tr>\n",
        "  </tbody>\n",
        "</table>\n",
        "</div>"
       ],
       "metadata": {},
       "output_type": "pyout",
       "prompt_number": 21,
       "text": [
        "                                                     text           created_at                                                geo              source\n",
        "count                                               44854                44854                                                726               44854\n",
        "first                                                 NaN  2014-04-27 06:30:05                                                NaN                 NaN\n",
        "freq                                                  359                   16                                                 15               10920\n",
        "last                                                  NaN  2014-04-27 14:30:04                                                NaN                 NaN\n",
        "top     RT @catolicos_es: \u00a1San Juan XXIII y San Juan P...  2014-04-27 10:00:06  { \"type\" : \"Point\", \"coordinates\" : [ 6.864163...  Twitter for iPhone\n",
        "unique                                              19106                19056                                                642                 210"
       ]
      }
     ],
     "prompt_number": 21
    },
    {
     "cell_type": "code",
     "collapsed": false,
     "input": [
      "# created_at timeseries is in a per minute minute format.\n",
      "dataset1m = dataset['created_at'].resample('1t', how='count')\n",
      "dataset1m.head()"
     ],
     "language": "python",
     "metadata": {},
     "outputs": [
      {
       "metadata": {},
       "output_type": "pyout",
       "prompt_number": 22,
       "text": [
        "2014-04-26 20:30:00+02:00    52\n",
        "2014-04-26 20:31:00+02:00    57\n",
        "2014-04-26 20:32:00+02:00    70\n",
        "2014-04-26 20:33:00+02:00    43\n",
        "2014-04-26 20:34:00+02:00    50\n",
        "dtype: int64"
       ]
      }
     ],
     "prompt_number": 22
    },
    {
     "cell_type": "code",
     "collapsed": false,
     "input": [
      "avg = dataset1m.mean()\n",
      "print \"average amount of tweets per minute \", avg"
     ],
     "language": "python",
     "metadata": {},
     "outputs": [
      {
       "output_type": "stream",
       "stream": "stdout",
       "text": [
        "average amount of tweets per minute  93.2515592516\n"
       ]
      }
     ],
     "prompt_number": 23
    },
    {
     "cell_type": "code",
     "collapsed": false,
     "input": [
      "import vincent\n",
      "\n",
      "vincent.core.initialize_notebook()\n",
      "area = vincent.Area(dataset1m)\n",
      "area.colors(brew='Spectral')\n",
      "area.display()"
     ],
     "language": "python",
     "metadata": {},
     "outputs": [
      {
       "javascript": [
        "\n",
        "    require.config({paths: {d3: \"http://d3js.org/d3.v3.min\"}});\n",
        "    require([\"d3\"], function(d3) {\n",
        "      window.d3 = d3;\n",
        "    });\n",
        "    "
       ],
       "metadata": {},
       "output_type": "display_data",
       "text": [
        "<IPython.core.display.Javascript at 0x10597ab10>"
       ]
      },
      {
       "javascript": [
        "$.getScript(\"http://d3js.org/d3.geo.projection.v0.min.js\", function() {\n",
        "        $.getScript(\"http://wrobstory.github.io/d3-cloud/d3.layout.cloud.js\", function() {\n",
        "            $.getScript(\"http://d3js.org/topojson.v1.min.js\", function() {\n",
        "                $.getScript(\"http://trifacta.github.com/vega/vega.js\", function() {\n",
        "                        $([IPython.events]).trigger(\"vega_loaded.vincent\");\n",
        "                })\n",
        "            })\n",
        "        })\n",
        "    });"
       ],
       "metadata": {},
       "output_type": "display_data",
       "text": [
        "<IPython.core.display.Javascript at 0x10597ab10>"
       ]
      },
      {
       "html": [
        "<div id=\"vis31480\"></div>"
       ],
       "metadata": {},
       "output_type": "display_data",
       "text": [
        "<IPython.core.display.HTML at 0x1043bd9d0>"
       ]
      },
      {
       "javascript": [
        "\n",
        "( function() {\n",
        "  var _do_plot = function() {\n",
        "    if ( typeof vg == 'undefined' ) {\n",
        "      $([IPython.events]).on(\"vega_loaded.vincent\", _do_plot);\n",
        "      return;\n",
        "    }\n",
        "    vg.parse.spec({\"axes\": [{\"scale\": \"x\", \"type\": \"x\"}, {\"scale\": \"y\", \"type\": \"y\"}], \"data\": [{\"name\": \"table\", \"values\": [{\"col\": \"data\", \"idx\": 1398537000000, \"val\": 52}, {\"col\": \"data\", \"idx\": 1398537060000, \"val\": 57}, {\"col\": \"data\", \"idx\": 1398537120000, \"val\": 70}, {\"col\": \"data\", \"idx\": 1398537180000, \"val\": 43}, {\"col\": \"data\", \"idx\": 1398537240000, \"val\": 50}, {\"col\": \"data\", \"idx\": 1398537300000, \"val\": 45}, {\"col\": \"data\", \"idx\": 1398537360000, \"val\": 42}, {\"col\": \"data\", \"idx\": 1398537420000, \"val\": 34}, {\"col\": \"data\", \"idx\": 1398537480000, \"val\": 58}, {\"col\": \"data\", \"idx\": 1398537540000, \"val\": 52}, {\"col\": \"data\", \"idx\": 1398537600000, \"val\": 44}, {\"col\": \"data\", \"idx\": 1398537660000, \"val\": 54}, {\"col\": \"data\", \"idx\": 1398537720000, \"val\": 51}, {\"col\": \"data\", \"idx\": 1398537780000, \"val\": 56}, {\"col\": \"data\", \"idx\": 1398537840000, \"val\": 69}, {\"col\": \"data\", \"idx\": 1398537900000, \"val\": 61}, {\"col\": \"data\", \"idx\": 1398537960000, \"val\": 60}, {\"col\": \"data\", \"idx\": 1398538020000, \"val\": 54}, {\"col\": \"data\", \"idx\": 1398538080000, \"val\": 63}, {\"col\": \"data\", \"idx\": 1398538140000, \"val\": 64}, {\"col\": \"data\", \"idx\": 1398538200000, \"val\": 47}, {\"col\": \"data\", \"idx\": 1398538260000, \"val\": 65}, {\"col\": \"data\", \"idx\": 1398538320000, \"val\": 59}, {\"col\": \"data\", \"idx\": 1398538380000, \"val\": 70}, {\"col\": \"data\", \"idx\": 1398538440000, \"val\": 64}, {\"col\": \"data\", \"idx\": 1398538500000, \"val\": 72}, {\"col\": \"data\", \"idx\": 1398538560000, \"val\": 62}, {\"col\": \"data\", \"idx\": 1398538620000, \"val\": 62}, {\"col\": \"data\", \"idx\": 1398538680000, \"val\": 55}, {\"col\": \"data\", \"idx\": 1398538740000, \"val\": 54}, {\"col\": \"data\", \"idx\": 1398538800000, \"val\": 59}, {\"col\": \"data\", \"idx\": 1398538860000, \"val\": 52}, {\"col\": \"data\", \"idx\": 1398538920000, \"val\": 65}, {\"col\": \"data\", \"idx\": 1398538980000, \"val\": 53}, {\"col\": \"data\", \"idx\": 1398539040000, \"val\": 51}, {\"col\": \"data\", \"idx\": 1398539100000, \"val\": 90}, {\"col\": \"data\", \"idx\": 1398539160000, \"val\": 53}, {\"col\": \"data\", \"idx\": 1398539220000, \"val\": 78}, {\"col\": \"data\", \"idx\": 1398539280000, \"val\": 66}, {\"col\": \"data\", \"idx\": 1398539340000, \"val\": 58}, {\"col\": \"data\", \"idx\": 1398539400000, \"val\": 55}, {\"col\": \"data\", \"idx\": 1398539460000, \"val\": 51}, {\"col\": \"data\", \"idx\": 1398539520000, \"val\": 62}, {\"col\": \"data\", \"idx\": 1398539580000, \"val\": 102}, {\"col\": \"data\", \"idx\": 1398539640000, \"val\": 77}, {\"col\": \"data\", \"idx\": 1398539700000, \"val\": 65}, {\"col\": \"data\", \"idx\": 1398539760000, \"val\": 65}, {\"col\": \"data\", \"idx\": 1398539820000, \"val\": 55}, {\"col\": \"data\", \"idx\": 1398539880000, \"val\": 65}, {\"col\": \"data\", \"idx\": 1398539940000, \"val\": 61}, {\"col\": \"data\", \"idx\": 1398540000000, \"val\": 80}, {\"col\": \"data\", \"idx\": 1398540060000, \"val\": 95}, {\"col\": \"data\", \"idx\": 1398540120000, \"val\": 81}, {\"col\": \"data\", \"idx\": 1398540180000, \"val\": 77}, {\"col\": \"data\", \"idx\": 1398540240000, \"val\": 85}, {\"col\": \"data\", \"idx\": 1398540300000, \"val\": 66}, {\"col\": \"data\", \"idx\": 1398540360000, \"val\": 72}, {\"col\": \"data\", \"idx\": 1398540420000, \"val\": 96}, {\"col\": \"data\", \"idx\": 1398540480000, \"val\": 90}, {\"col\": \"data\", \"idx\": 1398540540000, \"val\": 78}, {\"col\": \"data\", \"idx\": 1398540600000, \"val\": 126}, {\"col\": \"data\", \"idx\": 1398540660000, \"val\": 92}, {\"col\": \"data\", \"idx\": 1398540720000, \"val\": 123}, {\"col\": \"data\", \"idx\": 1398540780000, \"val\": 114}, {\"col\": \"data\", \"idx\": 1398540840000, \"val\": 128}, {\"col\": \"data\", \"idx\": 1398540900000, \"val\": 150}, {\"col\": \"data\", \"idx\": 1398540960000, \"val\": 145}, {\"col\": \"data\", \"idx\": 1398541020000, \"val\": 149}, {\"col\": \"data\", \"idx\": 1398541080000, \"val\": 128}, {\"col\": \"data\", \"idx\": 1398541140000, \"val\": 142}, {\"col\": \"data\", \"idx\": 1398541200000, \"val\": 146}, {\"col\": \"data\", \"idx\": 1398541260000, \"val\": 129}, {\"col\": \"data\", \"idx\": 1398541320000, \"val\": 131}, {\"col\": \"data\", \"idx\": 1398541380000, \"val\": 145}, {\"col\": \"data\", \"idx\": 1398541440000, \"val\": 137}, {\"col\": \"data\", \"idx\": 1398541500000, \"val\": 120}, {\"col\": \"data\", \"idx\": 1398541560000, \"val\": 130}, {\"col\": \"data\", \"idx\": 1398541620000, \"val\": 138}, {\"col\": \"data\", \"idx\": 1398541680000, \"val\": 137}, {\"col\": \"data\", \"idx\": 1398541740000, \"val\": 142}, {\"col\": \"data\", \"idx\": 1398541800000, \"val\": 155}, {\"col\": \"data\", \"idx\": 1398541860000, \"val\": 150}, {\"col\": \"data\", \"idx\": 1398541920000, \"val\": 143}, {\"col\": \"data\", \"idx\": 1398541980000, \"val\": 159}, {\"col\": \"data\", \"idx\": 1398542040000, \"val\": 165}, {\"col\": \"data\", \"idx\": 1398542100000, \"val\": 136}, {\"col\": \"data\", \"idx\": 1398542160000, \"val\": 166}, {\"col\": \"data\", \"idx\": 1398542220000, \"val\": 165}, {\"col\": \"data\", \"idx\": 1398542280000, \"val\": 177}, {\"col\": \"data\", \"idx\": 1398542340000, \"val\": 178}, {\"col\": \"data\", \"idx\": 1398542400000, \"val\": 225}, {\"col\": \"data\", \"idx\": 1398542460000, \"val\": 166}, {\"col\": \"data\", \"idx\": 1398542520000, \"val\": 204}, {\"col\": \"data\", \"idx\": 1398542580000, \"val\": 174}, {\"col\": \"data\", \"idx\": 1398542640000, \"val\": 220}, {\"col\": \"data\", \"idx\": 1398542700000, \"val\": 204}, {\"col\": \"data\", \"idx\": 1398542760000, \"val\": 209}, {\"col\": \"data\", \"idx\": 1398542820000, \"val\": 199}, {\"col\": \"data\", \"idx\": 1398542880000, \"val\": 223}, {\"col\": \"data\", \"idx\": 1398542940000, \"val\": 208}, {\"col\": \"data\", \"idx\": 1398543000000, \"val\": 260}, {\"col\": \"data\", \"idx\": 1398543060000, \"val\": 248}, {\"col\": \"data\", \"idx\": 1398543120000, \"val\": 257}, {\"col\": \"data\", \"idx\": 1398543180000, \"val\": 250}, {\"col\": \"data\", \"idx\": 1398543240000, \"val\": 218}, {\"col\": \"data\", \"idx\": 1398543300000, \"val\": 273}, {\"col\": \"data\", \"idx\": 1398543360000, \"val\": 416}, {\"col\": \"data\", \"idx\": 1398543420000, \"val\": 458}, {\"col\": \"data\", \"idx\": 1398543480000, \"val\": 406}, {\"col\": \"data\", \"idx\": 1398543540000, \"val\": 407}, {\"col\": \"data\", \"idx\": 1398543600000, \"val\": 342}, {\"col\": \"data\", \"idx\": 1398543660000, \"val\": 348}, {\"col\": \"data\", \"idx\": 1398543720000, \"val\": 389}, {\"col\": \"data\", \"idx\": 1398543780000, \"val\": 17}, {\"col\": \"data\", \"idx\": 1398543840000, \"val\": 0}, {\"col\": \"data\", \"idx\": 1398543900000, \"val\": 0}, {\"col\": \"data\", \"idx\": 1398543960000, \"val\": 0}, {\"col\": \"data\", \"idx\": 1398544020000, \"val\": 0}, {\"col\": \"data\", \"idx\": 1398544080000, \"val\": 0}, {\"col\": \"data\", \"idx\": 1398544140000, \"val\": 0}, {\"col\": \"data\", \"idx\": 1398544200000, \"val\": 0}, {\"col\": \"data\", \"idx\": 1398544260000, \"val\": 0}, {\"col\": \"data\", \"idx\": 1398544320000, \"val\": 0}, {\"col\": \"data\", \"idx\": 1398544380000, \"val\": 0}, {\"col\": \"data\", \"idx\": 1398544440000, \"val\": 0}, {\"col\": \"data\", \"idx\": 1398544500000, \"val\": 0}, {\"col\": \"data\", \"idx\": 1398544560000, \"val\": 0}, {\"col\": \"data\", \"idx\": 1398544620000, \"val\": 0}, {\"col\": \"data\", \"idx\": 1398544680000, \"val\": 0}, {\"col\": \"data\", \"idx\": 1398544740000, \"val\": 0}, {\"col\": \"data\", \"idx\": 1398544800000, \"val\": 0}, {\"col\": \"data\", \"idx\": 1398544860000, \"val\": 0}, {\"col\": \"data\", \"idx\": 1398544920000, \"val\": 0}, {\"col\": \"data\", \"idx\": 1398544980000, \"val\": 0}, {\"col\": \"data\", \"idx\": 1398545040000, \"val\": 0}, {\"col\": \"data\", \"idx\": 1398545100000, \"val\": 0}, {\"col\": \"data\", \"idx\": 1398545160000, \"val\": 0}, {\"col\": \"data\", \"idx\": 1398545220000, \"val\": 0}, {\"col\": \"data\", \"idx\": 1398545280000, \"val\": 0}, {\"col\": \"data\", \"idx\": 1398545340000, \"val\": 0}, {\"col\": \"data\", \"idx\": 1398545400000, \"val\": 0}, {\"col\": \"data\", \"idx\": 1398545460000, \"val\": 0}, {\"col\": \"data\", \"idx\": 1398545520000, \"val\": 0}, {\"col\": \"data\", \"idx\": 1398545580000, \"val\": 0}, {\"col\": \"data\", \"idx\": 1398545640000, \"val\": 0}, {\"col\": \"data\", \"idx\": 1398545700000, \"val\": 0}, {\"col\": \"data\", \"idx\": 1398545760000, \"val\": 0}, {\"col\": \"data\", \"idx\": 1398545820000, \"val\": 0}, {\"col\": \"data\", \"idx\": 1398545880000, \"val\": 0}, {\"col\": \"data\", \"idx\": 1398545940000, \"val\": 0}, {\"col\": \"data\", \"idx\": 1398546000000, \"val\": 0}, {\"col\": \"data\", \"idx\": 1398546060000, \"val\": 0}, {\"col\": \"data\", \"idx\": 1398546120000, \"val\": 0}, {\"col\": \"data\", \"idx\": 1398546180000, \"val\": 129}, {\"col\": \"data\", \"idx\": 1398546240000, \"val\": 247}, {\"col\": \"data\", \"idx\": 1398546300000, \"val\": 237}, {\"col\": \"data\", \"idx\": 1398546360000, \"val\": 217}, {\"col\": \"data\", \"idx\": 1398546420000, \"val\": 244}, {\"col\": \"data\", \"idx\": 1398546480000, \"val\": 278}, {\"col\": \"data\", \"idx\": 1398546540000, \"val\": 308}, {\"col\": \"data\", \"idx\": 1398546600000, \"val\": 281}, {\"col\": \"data\", \"idx\": 1398546660000, \"val\": 239}, {\"col\": \"data\", \"idx\": 1398546720000, \"val\": 231}, {\"col\": \"data\", \"idx\": 1398546780000, \"val\": 201}, {\"col\": \"data\", \"idx\": 1398546840000, \"val\": 227}, {\"col\": \"data\", \"idx\": 1398546900000, \"val\": 217}, {\"col\": \"data\", \"idx\": 1398546960000, \"val\": 183}, {\"col\": \"data\", \"idx\": 1398547020000, \"val\": 214}, {\"col\": \"data\", \"idx\": 1398547080000, \"val\": 182}, {\"col\": \"data\", \"idx\": 1398547140000, \"val\": 183}, {\"col\": \"data\", \"idx\": 1398547200000, \"val\": 157}, {\"col\": \"data\", \"idx\": 1398547260000, \"val\": 153}, {\"col\": \"data\", \"idx\": 1398547320000, \"val\": 175}, {\"col\": \"data\", \"idx\": 1398547380000, \"val\": 171}, {\"col\": \"data\", \"idx\": 1398547440000, \"val\": 181}, {\"col\": \"data\", \"idx\": 1398547500000, \"val\": 159}, {\"col\": \"data\", \"idx\": 1398547560000, \"val\": 167}, {\"col\": \"data\", \"idx\": 1398547620000, \"val\": 155}, {\"col\": \"data\", \"idx\": 1398547680000, \"val\": 154}, {\"col\": \"data\", \"idx\": 1398547740000, \"val\": 131}, {\"col\": \"data\", \"idx\": 1398547800000, \"val\": 176}, {\"col\": \"data\", \"idx\": 1398547860000, \"val\": 145}, {\"col\": \"data\", \"idx\": 1398547920000, \"val\": 136}, {\"col\": \"data\", \"idx\": 1398547980000, \"val\": 123}, {\"col\": \"data\", \"idx\": 1398548040000, \"val\": 141}, {\"col\": \"data\", \"idx\": 1398548100000, \"val\": 138}, {\"col\": \"data\", \"idx\": 1398548160000, \"val\": 143}, {\"col\": \"data\", \"idx\": 1398548220000, \"val\": 149}, {\"col\": \"data\", \"idx\": 1398548280000, \"val\": 145}, {\"col\": \"data\", \"idx\": 1398548340000, \"val\": 122}, {\"col\": \"data\", \"idx\": 1398548400000, \"val\": 127}, {\"col\": \"data\", \"idx\": 1398548460000, \"val\": 147}, {\"col\": \"data\", \"idx\": 1398548520000, \"val\": 166}, {\"col\": \"data\", \"idx\": 1398548580000, \"val\": 174}, {\"col\": \"data\", \"idx\": 1398548640000, \"val\": 158}, {\"col\": \"data\", \"idx\": 1398548700000, \"val\": 157}, {\"col\": \"data\", \"idx\": 1398548760000, \"val\": 170}, {\"col\": \"data\", \"idx\": 1398548820000, \"val\": 172}, {\"col\": \"data\", \"idx\": 1398548880000, \"val\": 146}, {\"col\": \"data\", \"idx\": 1398548940000, \"val\": 138}, {\"col\": \"data\", \"idx\": 1398549000000, \"val\": 149}, {\"col\": \"data\", \"idx\": 1398549060000, \"val\": 160}, {\"col\": \"data\", \"idx\": 1398549120000, \"val\": 130}, {\"col\": \"data\", \"idx\": 1398549180000, \"val\": 168}, {\"col\": \"data\", \"idx\": 1398549240000, \"val\": 140}, {\"col\": \"data\", \"idx\": 1398549300000, \"val\": 139}, {\"col\": \"data\", \"idx\": 1398549360000, \"val\": 141}, {\"col\": \"data\", \"idx\": 1398549420000, \"val\": 159}, {\"col\": \"data\", \"idx\": 1398549480000, \"val\": 159}, {\"col\": \"data\", \"idx\": 1398549540000, \"val\": 152}, {\"col\": \"data\", \"idx\": 1398549600000, \"val\": 343}, {\"col\": \"data\", \"idx\": 1398549660000, \"val\": 262}, {\"col\": \"data\", \"idx\": 1398549720000, \"val\": 285}, {\"col\": \"data\", \"idx\": 1398549780000, \"val\": 240}, {\"col\": \"data\", \"idx\": 1398549840000, \"val\": 271}, {\"col\": \"data\", \"idx\": 1398549900000, \"val\": 186}, {\"col\": \"data\", \"idx\": 1398549960000, \"val\": 182}, {\"col\": \"data\", \"idx\": 1398550020000, \"val\": 168}, {\"col\": \"data\", \"idx\": 1398550080000, \"val\": 155}, {\"col\": \"data\", \"idx\": 1398550140000, \"val\": 164}, {\"col\": \"data\", \"idx\": 1398550200000, \"val\": 209}, {\"col\": \"data\", \"idx\": 1398550260000, \"val\": 233}, {\"col\": \"data\", \"idx\": 1398550320000, \"val\": 200}, {\"col\": \"data\", \"idx\": 1398550380000, \"val\": 188}, {\"col\": \"data\", \"idx\": 1398550440000, \"val\": 198}, {\"col\": \"data\", \"idx\": 1398550500000, \"val\": 202}, {\"col\": \"data\", \"idx\": 1398550560000, \"val\": 196}, {\"col\": \"data\", \"idx\": 1398550620000, \"val\": 204}, {\"col\": \"data\", \"idx\": 1398550680000, \"val\": 189}, {\"col\": \"data\", \"idx\": 1398550740000, \"val\": 197}, {\"col\": \"data\", \"idx\": 1398550800000, \"val\": 186}, {\"col\": \"data\", \"idx\": 1398550860000, \"val\": 168}, {\"col\": \"data\", \"idx\": 1398550920000, \"val\": 169}, {\"col\": \"data\", \"idx\": 1398550980000, \"val\": 139}, {\"col\": \"data\", \"idx\": 1398551040000, \"val\": 149}, {\"col\": \"data\", \"idx\": 1398551100000, \"val\": 142}, {\"col\": \"data\", \"idx\": 1398551160000, \"val\": 105}, {\"col\": \"data\", \"idx\": 1398551220000, \"val\": 122}, {\"col\": \"data\", \"idx\": 1398551280000, \"val\": 138}, {\"col\": \"data\", \"idx\": 1398551340000, \"val\": 122}, {\"col\": \"data\", \"idx\": 1398551400000, \"val\": 143}, {\"col\": \"data\", \"idx\": 1398551460000, \"val\": 141}, {\"col\": \"data\", \"idx\": 1398551520000, \"val\": 147}, {\"col\": \"data\", \"idx\": 1398551580000, \"val\": 131}, {\"col\": \"data\", \"idx\": 1398551640000, \"val\": 111}, {\"col\": \"data\", \"idx\": 1398551700000, \"val\": 120}, {\"col\": \"data\", \"idx\": 1398551760000, \"val\": 119}, {\"col\": \"data\", \"idx\": 1398551820000, \"val\": 117}, {\"col\": \"data\", \"idx\": 1398551880000, \"val\": 113}, {\"col\": \"data\", \"idx\": 1398551940000, \"val\": 120}, {\"col\": \"data\", \"idx\": 1398552000000, \"val\": 119}, {\"col\": \"data\", \"idx\": 1398552060000, \"val\": 113}, {\"col\": \"data\", \"idx\": 1398552120000, \"val\": 103}, {\"col\": \"data\", \"idx\": 1398552180000, \"val\": 97}, {\"col\": \"data\", \"idx\": 1398552240000, \"val\": 92}, {\"col\": \"data\", \"idx\": 1398552300000, \"val\": 118}, {\"col\": \"data\", \"idx\": 1398552360000, \"val\": 111}, {\"col\": \"data\", \"idx\": 1398552420000, \"val\": 78}, {\"col\": \"data\", \"idx\": 1398552480000, \"val\": 85}, {\"col\": \"data\", \"idx\": 1398552540000, \"val\": 102}, {\"col\": \"data\", \"idx\": 1398552600000, \"val\": 96}, {\"col\": \"data\", \"idx\": 1398552660000, \"val\": 104}, {\"col\": \"data\", \"idx\": 1398552720000, \"val\": 83}, {\"col\": \"data\", \"idx\": 1398552780000, \"val\": 87}, {\"col\": \"data\", \"idx\": 1398552840000, \"val\": 89}, {\"col\": \"data\", \"idx\": 1398552900000, \"val\": 102}, {\"col\": \"data\", \"idx\": 1398552960000, \"val\": 91}, {\"col\": \"data\", \"idx\": 1398553020000, \"val\": 99}, {\"col\": \"data\", \"idx\": 1398553080000, \"val\": 78}, {\"col\": \"data\", \"idx\": 1398553140000, \"val\": 85}, {\"col\": \"data\", \"idx\": 1398553200000, \"val\": 85}, {\"col\": \"data\", \"idx\": 1398553260000, \"val\": 103}, {\"col\": \"data\", \"idx\": 1398553320000, \"val\": 74}, {\"col\": \"data\", \"idx\": 1398553380000, \"val\": 91}, {\"col\": \"data\", \"idx\": 1398553440000, \"val\": 107}, {\"col\": \"data\", \"idx\": 1398553500000, \"val\": 101}, {\"col\": \"data\", \"idx\": 1398553560000, \"val\": 77}, {\"col\": \"data\", \"idx\": 1398553620000, \"val\": 78}, {\"col\": \"data\", \"idx\": 1398553680000, \"val\": 81}, {\"col\": \"data\", \"idx\": 1398553740000, \"val\": 99}, {\"col\": \"data\", \"idx\": 1398553800000, \"val\": 79}, {\"col\": \"data\", \"idx\": 1398553860000, \"val\": 67}, {\"col\": \"data\", \"idx\": 1398553920000, \"val\": 80}, {\"col\": \"data\", \"idx\": 1398553980000, \"val\": 89}, {\"col\": \"data\", \"idx\": 1398554040000, \"val\": 75}, {\"col\": \"data\", \"idx\": 1398554100000, \"val\": 81}, {\"col\": \"data\", \"idx\": 1398554160000, \"val\": 68}, {\"col\": \"data\", \"idx\": 1398554220000, \"val\": 81}, {\"col\": \"data\", \"idx\": 1398554280000, \"val\": 79}, {\"col\": \"data\", \"idx\": 1398554340000, \"val\": 64}, {\"col\": \"data\", \"idx\": 1398554400000, \"val\": 67}, {\"col\": \"data\", \"idx\": 1398554460000, \"val\": 74}, {\"col\": \"data\", \"idx\": 1398554520000, \"val\": 84}, {\"col\": \"data\", \"idx\": 1398554580000, \"val\": 62}, {\"col\": \"data\", \"idx\": 1398554640000, \"val\": 66}, {\"col\": \"data\", \"idx\": 1398554700000, \"val\": 66}, {\"col\": \"data\", \"idx\": 1398554760000, \"val\": 84}, {\"col\": \"data\", \"idx\": 1398554820000, \"val\": 62}, {\"col\": \"data\", \"idx\": 1398554880000, \"val\": 76}, {\"col\": \"data\", \"idx\": 1398554940000, \"val\": 73}, {\"col\": \"data\", \"idx\": 1398555000000, \"val\": 70}, {\"col\": \"data\", \"idx\": 1398555060000, \"val\": 87}, {\"col\": \"data\", \"idx\": 1398555120000, \"val\": 63}, {\"col\": \"data\", \"idx\": 1398555180000, \"val\": 75}, {\"col\": \"data\", \"idx\": 1398555240000, \"val\": 75}, {\"col\": \"data\", \"idx\": 1398555300000, \"val\": 49}, {\"col\": \"data\", \"idx\": 1398555360000, \"val\": 65}, {\"col\": \"data\", \"idx\": 1398555420000, \"val\": 61}, {\"col\": \"data\", \"idx\": 1398555480000, \"val\": 45}, {\"col\": \"data\", \"idx\": 1398555540000, \"val\": 47}, {\"col\": \"data\", \"idx\": 1398555600000, \"val\": 49}, {\"col\": \"data\", \"idx\": 1398555660000, \"val\": 48}, {\"col\": \"data\", \"idx\": 1398555720000, \"val\": 51}, {\"col\": \"data\", \"idx\": 1398555780000, \"val\": 56}, {\"col\": \"data\", \"idx\": 1398555840000, \"val\": 51}, {\"col\": \"data\", \"idx\": 1398555900000, \"val\": 64}, {\"col\": \"data\", \"idx\": 1398555960000, \"val\": 60}, {\"col\": \"data\", \"idx\": 1398556020000, \"val\": 54}, {\"col\": \"data\", \"idx\": 1398556080000, \"val\": 51}, {\"col\": \"data\", \"idx\": 1398556140000, \"val\": 57}, {\"col\": \"data\", \"idx\": 1398556200000, \"val\": 53}, {\"col\": \"data\", \"idx\": 1398556260000, \"val\": 51}, {\"col\": \"data\", \"idx\": 1398556320000, \"val\": 32}, {\"col\": \"data\", \"idx\": 1398556380000, \"val\": 40}, {\"col\": \"data\", \"idx\": 1398556440000, \"val\": 35}, {\"col\": \"data\", \"idx\": 1398556500000, \"val\": 45}, {\"col\": \"data\", \"idx\": 1398556560000, \"val\": 46}, {\"col\": \"data\", \"idx\": 1398556620000, \"val\": 42}, {\"col\": \"data\", \"idx\": 1398556680000, \"val\": 52}, {\"col\": \"data\", \"idx\": 1398556740000, \"val\": 66}, {\"col\": \"data\", \"idx\": 1398556800000, \"val\": 54}, {\"col\": \"data\", \"idx\": 1398556860000, \"val\": 65}, {\"col\": \"data\", \"idx\": 1398556920000, \"val\": 74}, {\"col\": \"data\", \"idx\": 1398556980000, \"val\": 67}, {\"col\": \"data\", \"idx\": 1398557040000, \"val\": 65}, {\"col\": \"data\", \"idx\": 1398557100000, \"val\": 79}, {\"col\": \"data\", \"idx\": 1398557160000, \"val\": 54}, {\"col\": \"data\", \"idx\": 1398557220000, \"val\": 78}, {\"col\": \"data\", \"idx\": 1398557280000, \"val\": 59}, {\"col\": \"data\", \"idx\": 1398557340000, \"val\": 54}, {\"col\": \"data\", \"idx\": 1398557400000, \"val\": 69}, {\"col\": \"data\", \"idx\": 1398557460000, \"val\": 67}, {\"col\": \"data\", \"idx\": 1398557520000, \"val\": 66}, {\"col\": \"data\", \"idx\": 1398557580000, \"val\": 55}, {\"col\": \"data\", \"idx\": 1398557640000, \"val\": 72}, {\"col\": \"data\", \"idx\": 1398557700000, \"val\": 61}, {\"col\": \"data\", \"idx\": 1398557760000, \"val\": 58}, {\"col\": \"data\", \"idx\": 1398557820000, \"val\": 45}, {\"col\": \"data\", \"idx\": 1398557880000, \"val\": 34}, {\"col\": \"data\", \"idx\": 1398557940000, \"val\": 58}, {\"col\": \"data\", \"idx\": 1398558000000, \"val\": 64}, {\"col\": \"data\", \"idx\": 1398558060000, \"val\": 57}, {\"col\": \"data\", \"idx\": 1398558120000, \"val\": 50}, {\"col\": \"data\", \"idx\": 1398558180000, \"val\": 57}, {\"col\": \"data\", \"idx\": 1398558240000, \"val\": 53}, {\"col\": \"data\", \"idx\": 1398558300000, \"val\": 47}, {\"col\": \"data\", \"idx\": 1398558360000, \"val\": 51}, {\"col\": \"data\", \"idx\": 1398558420000, \"val\": 66}, {\"col\": \"data\", \"idx\": 1398558480000, \"val\": 51}, {\"col\": \"data\", \"idx\": 1398558540000, \"val\": 54}, {\"col\": \"data\", \"idx\": 1398558600000, \"val\": 86}, {\"col\": \"data\", \"idx\": 1398558660000, \"val\": 68}, {\"col\": \"data\", \"idx\": 1398558720000, \"val\": 50}, {\"col\": \"data\", \"idx\": 1398558780000, \"val\": 56}, {\"col\": \"data\", \"idx\": 1398558840000, \"val\": 66}, {\"col\": \"data\", \"idx\": 1398558900000, \"val\": 61}, {\"col\": \"data\", \"idx\": 1398558960000, \"val\": 41}, {\"col\": \"data\", \"idx\": 1398559020000, \"val\": 61}, {\"col\": \"data\", \"idx\": 1398559080000, \"val\": 40}, {\"col\": \"data\", \"idx\": 1398559140000, \"val\": 47}, {\"col\": \"data\", \"idx\": 1398559200000, \"val\": 48}, {\"col\": \"data\", \"idx\": 1398559260000, \"val\": 52}, {\"col\": \"data\", \"idx\": 1398559320000, \"val\": 31}, {\"col\": \"data\", \"idx\": 1398559380000, \"val\": 49}, {\"col\": \"data\", \"idx\": 1398559440000, \"val\": 51}, {\"col\": \"data\", \"idx\": 1398559500000, \"val\": 49}, {\"col\": \"data\", \"idx\": 1398559560000, \"val\": 49}, {\"col\": \"data\", \"idx\": 1398559620000, \"val\": 71}, {\"col\": \"data\", \"idx\": 1398559680000, \"val\": 57}, {\"col\": \"data\", \"idx\": 1398559740000, \"val\": 77}, {\"col\": \"data\", \"idx\": 1398559800000, \"val\": 85}, {\"col\": \"data\", \"idx\": 1398559860000, \"val\": 51}, {\"col\": \"data\", \"idx\": 1398559920000, \"val\": 47}, {\"col\": \"data\", \"idx\": 1398559980000, \"val\": 79}, {\"col\": \"data\", \"idx\": 1398560040000, \"val\": 59}, {\"col\": \"data\", \"idx\": 1398560100000, \"val\": 45}, {\"col\": \"data\", \"idx\": 1398560160000, \"val\": 48}, {\"col\": \"data\", \"idx\": 1398560220000, \"val\": 58}, {\"col\": \"data\", \"idx\": 1398560280000, \"val\": 48}, {\"col\": \"data\", \"idx\": 1398560340000, \"val\": 22}, {\"col\": \"data\", \"idx\": 1398560400000, \"val\": 43}, {\"col\": \"data\", \"idx\": 1398560460000, \"val\": 41}, {\"col\": \"data\", \"idx\": 1398560520000, \"val\": 37}, {\"col\": \"data\", \"idx\": 1398560580000, \"val\": 33}, {\"col\": \"data\", \"idx\": 1398560640000, \"val\": 50}, {\"col\": \"data\", \"idx\": 1398560700000, \"val\": 53}, {\"col\": \"data\", \"idx\": 1398560760000, \"val\": 43}, {\"col\": \"data\", \"idx\": 1398560820000, \"val\": 65}, {\"col\": \"data\", \"idx\": 1398560880000, \"val\": 61}, {\"col\": \"data\", \"idx\": 1398560940000, \"val\": 38}, {\"col\": \"data\", \"idx\": 1398561000000, \"val\": 58}, {\"col\": \"data\", \"idx\": 1398561060000, \"val\": 51}, {\"col\": \"data\", \"idx\": 1398561120000, \"val\": 40}, {\"col\": \"data\", \"idx\": 1398561180000, \"val\": 34}, {\"col\": \"data\", \"idx\": 1398561240000, \"val\": 42}, {\"col\": \"data\", \"idx\": 1398561300000, \"val\": 32}, {\"col\": \"data\", \"idx\": 1398561360000, \"val\": 62}, {\"col\": \"data\", \"idx\": 1398561420000, \"val\": 52}, {\"col\": \"data\", \"idx\": 1398561480000, \"val\": 53}, {\"col\": \"data\", \"idx\": 1398561540000, \"val\": 50}, {\"col\": \"data\", \"idx\": 1398561600000, \"val\": 48}, {\"col\": \"data\", \"idx\": 1398561660000, \"val\": 44}, {\"col\": \"data\", \"idx\": 1398561720000, \"val\": 54}, {\"col\": \"data\", \"idx\": 1398561780000, \"val\": 38}, {\"col\": \"data\", \"idx\": 1398561840000, \"val\": 47}, {\"col\": \"data\", \"idx\": 1398561900000, \"val\": 54}, {\"col\": \"data\", \"idx\": 1398561960000, \"val\": 61}, {\"col\": \"data\", \"idx\": 1398562020000, \"val\": 50}, {\"col\": \"data\", \"idx\": 1398562080000, \"val\": 51}, {\"col\": \"data\", \"idx\": 1398562140000, \"val\": 38}, {\"col\": \"data\", \"idx\": 1398562200000, \"val\": 46}, {\"col\": \"data\", \"idx\": 1398562260000, \"val\": 55}, {\"col\": \"data\", \"idx\": 1398562320000, \"val\": 53}, {\"col\": \"data\", \"idx\": 1398562380000, \"val\": 60}, {\"col\": \"data\", \"idx\": 1398562440000, \"val\": 50}, {\"col\": \"data\", \"idx\": 1398562500000, \"val\": 52}, {\"col\": \"data\", \"idx\": 1398562560000, \"val\": 49}, {\"col\": \"data\", \"idx\": 1398562620000, \"val\": 47}, {\"col\": \"data\", \"idx\": 1398562680000, \"val\": 57}, {\"col\": \"data\", \"idx\": 1398562740000, \"val\": 44}, {\"col\": \"data\", \"idx\": 1398562800000, \"val\": 50}, {\"col\": \"data\", \"idx\": 1398562860000, \"val\": 47}, {\"col\": \"data\", \"idx\": 1398562920000, \"val\": 58}, {\"col\": \"data\", \"idx\": 1398562980000, \"val\": 59}, {\"col\": \"data\", \"idx\": 1398563040000, \"val\": 51}, {\"col\": \"data\", \"idx\": 1398563100000, \"val\": 44}, {\"col\": \"data\", \"idx\": 1398563160000, \"val\": 41}, {\"col\": \"data\", \"idx\": 1398563220000, \"val\": 40}, {\"col\": \"data\", \"idx\": 1398563280000, \"val\": 38}, {\"col\": \"data\", \"idx\": 1398563340000, \"val\": 33}, {\"col\": \"data\", \"idx\": 1398563400000, \"val\": 48}, {\"col\": \"data\", \"idx\": 1398563460000, \"val\": 44}, {\"col\": \"data\", \"idx\": 1398563520000, \"val\": 44}, {\"col\": \"data\", \"idx\": 1398563580000, \"val\": 42}, {\"col\": \"data\", \"idx\": 1398563640000, \"val\": 48}, {\"col\": \"data\", \"idx\": 1398563700000, \"val\": 36}, {\"col\": \"data\", \"idx\": 1398563760000, \"val\": 43}, {\"col\": \"data\", \"idx\": 1398563820000, \"val\": 45}, {\"col\": \"data\", \"idx\": 1398563880000, \"val\": 68}, {\"col\": \"data\", \"idx\": 1398563940000, \"val\": 47}, {\"col\": \"data\", \"idx\": 1398564000000, \"val\": 63}, {\"col\": \"data\", \"idx\": 1398564060000, \"val\": 58}, {\"col\": \"data\", \"idx\": 1398564120000, \"val\": 31}, {\"col\": \"data\", \"idx\": 1398564180000, \"val\": 60}, {\"col\": \"data\", \"idx\": 1398564240000, \"val\": 40}, {\"col\": \"data\", \"idx\": 1398564300000, \"val\": 45}, {\"col\": \"data\", \"idx\": 1398564360000, \"val\": 50}, {\"col\": \"data\", \"idx\": 1398564420000, \"val\": 42}, {\"col\": \"data\", \"idx\": 1398564480000, \"val\": 51}, {\"col\": \"data\", \"idx\": 1398564540000, \"val\": 34}, {\"col\": \"data\", \"idx\": 1398564600000, \"val\": 45}, {\"col\": \"data\", \"idx\": 1398564660000, \"val\": 43}, {\"col\": \"data\", \"idx\": 1398564720000, \"val\": 42}, {\"col\": \"data\", \"idx\": 1398564780000, \"val\": 44}, {\"col\": \"data\", \"idx\": 1398564840000, \"val\": 30}, {\"col\": \"data\", \"idx\": 1398564900000, \"val\": 30}, {\"col\": \"data\", \"idx\": 1398564960000, \"val\": 39}, {\"col\": \"data\", \"idx\": 1398565020000, \"val\": 41}, {\"col\": \"data\", \"idx\": 1398565080000, \"val\": 55}, {\"col\": \"data\", \"idx\": 1398565140000, \"val\": 43}, {\"col\": \"data\", \"idx\": 1398565200000, \"val\": 32}, {\"col\": \"data\", \"idx\": 1398565260000, \"val\": 47}, {\"col\": \"data\", \"idx\": 1398565320000, \"val\": 34}, {\"col\": \"data\", \"idx\": 1398565380000, \"val\": 58}, {\"col\": \"data\", \"idx\": 1398565440000, \"val\": 49}, {\"col\": \"data\", \"idx\": 1398565500000, \"val\": 55}, {\"col\": \"data\", \"idx\": 1398565560000, \"val\": 55}, {\"col\": \"data\", \"idx\": 1398565620000, \"val\": 62}, {\"col\": \"data\", \"idx\": 1398565680000, \"val\": 45}, {\"col\": \"data\", \"idx\": 1398565740000, \"val\": 57}, {\"col\": \"data\", \"idx\": 1398565800000, \"val\": 7}]}, {\"name\": \"stats\", \"source\": \"table\", \"transform\": [{\"keys\": [\"data.idx\"], \"type\": \"facet\"}, {\"type\": \"stats\", \"value\": \"data.val\"}]}], \"height\": 500, \"legends\": [], \"marks\": [{\"from\": {\"data\": \"table\", \"transform\": [{\"keys\": [\"data.col\"], \"type\": \"facet\"}, {\"height\": \"data.val\", \"point\": \"data.idx\", \"type\": \"stack\"}]}, \"marks\": [{\"properties\": {\"enter\": {\"fill\": {\"field\": \"data.col\", \"scale\": \"color\"}, \"interpolate\": {\"value\": \"monotone\"}, \"x\": {\"field\": \"data.idx\", \"scale\": \"x\"}, \"y\": {\"field\": \"y\", \"scale\": \"y\"}, \"y2\": {\"field\": \"y2\", \"scale\": \"y\"}}}, \"type\": \"area\"}], \"type\": \"group\"}], \"padding\": \"auto\", \"scales\": [{\"domain\": {\"data\": \"table\", \"field\": \"data.idx\"}, \"name\": \"x\", \"range\": \"width\", \"type\": \"time\", \"zero\": false}, {\"domain\": {\"data\": \"stats\", \"field\": \"sum\"}, \"name\": \"y\", \"nice\": true, \"range\": \"height\"}, {\"domain\": {\"data\": \"table\", \"field\": \"data.col\"}, \"name\": \"color\", \"range\": [\"#9e0142\", \"#d53e4f\", \"#f46d43\", \"#fdae61\", \"#fee08b\", \"#ffffbf\", \"#e6f598\", \"#abdda4\", \"#66c2a5\", \"#3288bd\", \"#5e4fa2\"], \"type\": \"ordinal\"}], \"width\": 960}, function(chart) {\n",
        "      chart({el: \"#vis31480\"}).update();\n",
        "    });\n",
        "  };\n",
        "  _do_plot();\n",
        "})();\n"
       ],
       "metadata": {},
       "output_type": "display_data",
       "text": [
        "<IPython.core.display.Javascript at 0x1043bd7d0>"
       ]
      }
     ],
     "prompt_number": 24
    },
    {
     "cell_type": "code",
     "collapsed": false,
     "input": [
      "# most used devices.\n",
      "dataset.source.value_counts()[:15]"
     ],
     "language": "python",
     "metadata": {},
     "outputs": [
      {
       "metadata": {},
       "output_type": "pyout",
       "prompt_number": 25,
       "text": [
        "Twitter for iPhone             10920\n",
        "Twitter for Android            10403\n",
        "web                             8855\n",
        "Twitter for iPad                3423\n",
        "TweetDeck                       2029\n",
        "Twitter for BlackBerry\u00ae         1861\n",
        "Twitter for  Android            1397\n",
        "Twitter for Android Tablets      918\n",
        "Mobile Web                       585\n",
        "HootSuite                        549\n",
        "Twitter for Windows Phone        534\n",
        "TweetCaster for Android          332\n",
        "Twitter for BlackBerry           332\n",
        "Facebook                         258\n",
        "Twitter for Mac                  220\n",
        "dtype: int64"
       ]
      }
     ],
     "prompt_number": 25
    },
    {
     "cell_type": "code",
     "collapsed": false,
     "input": [
      "geo = dataset.geo\n",
      "geo = geo[geo.notnull()]\n",
      "geo.head()"
     ],
     "language": "python",
     "metadata": {},
     "outputs": [
      {
       "metadata": {},
       "output_type": "pyout",
       "prompt_number": 26,
       "text": [
        "2014-04-26 20:31:17+02:00    { \"type\" : \"Point\", \"coordinates\" : [ 43.82456...\n",
        "2014-04-26 20:32:55+02:00    { \"type\" : \"Point\", \"coordinates\" : [ 41.90168...\n",
        "2014-04-26 20:33:18+02:00    { \"type\" : \"Point\", \"coordinates\" : [ 44.17738...\n",
        "2014-04-26 20:33:18+02:00    { \"type\" : \"Point\", \"coordinates\" : [ 41.90221...\n",
        "2014-04-26 20:33:48+02:00    { \"type\" : \"Point\", \"coordinates\" : [ 30.33523...\n",
        "Name: geo, dtype: object"
       ]
      }
     ],
     "prompt_number": 26
    },
    {
     "cell_type": "code",
     "collapsed": false,
     "input": [
      "import json\n",
      "coordinates = []\n",
      "\n",
      "for g in geo:\n",
      "    coordinates.append(json.loads(g)['coordinates'])\n"
     ],
     "language": "python",
     "metadata": {},
     "outputs": [],
     "prompt_number": 27
    },
    {
     "cell_type": "code",
     "collapsed": false,
     "input": [
      "# plotting the map of twitts\n",
      "import folium\n",
      "\n",
      "#Simple Markers\n",
      "wmap = folium.Map(location=[32.4942772,-34.505193], zoom_start=2)\n",
      "for c in coordinates:\n",
      "    wmap.simple_marker(c, popup='twitt')\n",
      "\n",
      "wmap.create_map(path='2pop_map.html')"
     ],
     "language": "python",
     "metadata": {},
     "outputs": [],
     "prompt_number": 28
    },
    {
     "cell_type": "code",
     "collapsed": false,
     "input": [
      "from IPython.display import IFrame\n",
      "# IFrame('file:///Users/uolter/src/pycode/mining_social_web/2popesaints/2pop_map.html', width=750, height=350)\n",
      "IFrame('http://localhost:8000/2pop_map.html', width=800, height=950)"
     ],
     "language": "python",
     "metadata": {},
     "outputs": [
      {
       "html": [
        "\n",
        "        <iframe\n",
        "            width=\"800\"\n",
        "            height=950\"\n",
        "            src=\"http://localhost:8000/2pop_map.html\"\n",
        "            frameborder=\"0\"\n",
        "            allowfullscreen\n",
        "        ></iframe>\n",
        "        "
       ],
       "metadata": {},
       "output_type": "pyout",
       "prompt_number": 29,
       "text": [
        "<IPython.lib.display.IFrame at 0x10597ab10>"
       ]
      }
     ],
     "prompt_number": 29
    },
    {
     "cell_type": "code",
     "collapsed": false,
     "input": [
      "# language detected\n",
      "import matplotlib.pyplot as plt\n",
      "from pandas import Series\n",
      "\n",
      "lang = [('english', 6738), ('spanish', 6663), (None, 4700),\n",
      "        ('italian', 2236), ('french', 1528), ('portuguese', 720), ('hungarian', 412), \n",
      "        ('swedish', 264), ('german', 251), ('danish', 198), ('dutch', 96), ('finnish', 47), \n",
      "        ('norwegian', 37), ('russian', 8), ('turkish', 4)]\n",
      "\n",
      "\n",
      "\n",
      "tot = [l[1] for l in lang]\n",
      "index = [l[0] for l in lang]\n",
      "\n",
      "lang_series = Series(tot, index=index )\n",
      "\n",
      "# make a histogram\n",
      "\n",
      "Series.plot(lang_series, kind='bar', \n",
      "     title='2 Pope Saints tweets.'\n",
      "     )\n",
      "\n",
      "plt.xlabel('languages')\n",
      "plt.ylabel('count')"
     ],
     "language": "python",
     "metadata": {},
     "outputs": [
      {
       "metadata": {},
       "output_type": "pyout",
       "prompt_number": 2,
       "text": [
        "<matplotlib.text.Text at 0x105449c10>"
       ]
      },
      {
       "metadata": {},
       "output_type": "display_data",
       "png": "[encoded data removed]",
       "text": [
        "<matplotlib.figure.Figure at 0x10543d950>"
       ]
      }
     ],
     "prompt_number": 2
    },
    {
     "cell_type": "code",
     "collapsed": false,
     "input": [],
     "language": "python",
     "metadata": {},
     "outputs": [
      {
       "ename": "ImportError",
       "evalue": "cannot import name date_range",
       "output_type": "pyerr",
       "traceback": [
        "\u001b[0;31m---------------------------------------------------------------------------\u001b[0m\n\u001b[0;31mImportError\u001b[0m                               Traceback (most recent call last)",
        "\u001b[0;32m<ipython-input-41-f1f21921df37>\u001b[0m in \u001b[0;36m<module>\u001b[0;34m()\u001b[0m\n\u001b[1;32m      1\u001b[0m \u001b[0;32mfrom\u001b[0m \u001b[0mnumpy\u001b[0m\u001b[0;34m.\u001b[0m\u001b[0mrandom\u001b[0m \u001b[0;32mimport\u001b[0m \u001b[0mrandn\u001b[0m\u001b[0;34m\u001b[0m\u001b[0m\n\u001b[0;32m----> 2\u001b[0;31m \u001b[0;32mfrom\u001b[0m \u001b[0mdatetime\u001b[0m \u001b[0;32mimport\u001b[0m \u001b[0mdate_range\u001b[0m\u001b[0;34m\u001b[0m\u001b[0m\n\u001b[0m\u001b[1;32m      3\u001b[0m \u001b[0;34m\u001b[0m\u001b[0m\n\u001b[1;32m      4\u001b[0m \u001b[0mts\u001b[0m \u001b[0;34m=\u001b[0m \u001b[0mSeries\u001b[0m\u001b[0;34m(\u001b[0m\u001b[0mrandn\u001b[0m\u001b[0;34m(\u001b[0m\u001b[0;36m1000\u001b[0m\u001b[0;34m)\u001b[0m\u001b[0;34m)\u001b[0m\u001b[0;34m\u001b[0m\u001b[0m\n\u001b[1;32m      5\u001b[0m \u001b[0;34m\u001b[0m\u001b[0m\n",
        "\u001b[0;31mImportError\u001b[0m: cannot import name date_range"
       ]
      }
     ],
     "prompt_number": 41
    },
    {
     "cell_type": "code",
     "collapsed": false,
     "input": [],
     "language": "python",
     "metadata": {},
     "outputs": [],
     "prompt_number": 41
    },
    {
     "cell_type": "code",
     "collapsed": false,
     "input": [],
     "language": "python",
     "metadata": {},
     "outputs": []
    }
   ],
   "metadata": {}
  }
 ]
}